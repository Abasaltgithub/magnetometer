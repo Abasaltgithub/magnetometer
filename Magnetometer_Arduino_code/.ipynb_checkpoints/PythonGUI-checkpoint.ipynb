{
 "cells": [
  {
   "cell_type": "code",
   "execution_count": null,
   "id": "e435b7f1",
   "metadata": {},
   "outputs": [
    {
     "name": "stderr",
     "output_type": "stream",
     "text": [
      "Exception in Tkinter callback\n",
      "Traceback (most recent call last):\n",
      "  File \"C:\\Anaconda\\lib\\tkinter\\__init__.py\", line 1892, in __call__\n",
      "    return self.func(*args)\n",
      "  File \"C:\\Users\\QuBiT Data PC\\AppData\\Local\\Temp\\ipykernel_9796\\1264645400.py\", line 10, in send_string\n",
      "    ser.write(string)\n",
      "  File \"C:\\Anaconda\\lib\\site-packages\\serial\\serialwin32.py\", line 310, in write\n",
      "    data = to_bytes(data)\n",
      "  File \"C:\\Anaconda\\lib\\site-packages\\serial\\serialutil.py\", line 65, in to_bytes\n",
      "    raise TypeError('unicode strings are not supported, please encode to bytes: {!r}'.format(seq))\n",
      "TypeError: unicode strings are not supported, please encode to bytes: 'red'\n"
     ]
    }
   ],
   "source": [
    "import tkinter as tk\n",
    "import serial\n",
    "\n",
    "# create serial object\n",
    "ser = serial.Serial('COM9', 9600)  # change the port name and baud rate as needed\n",
    "\n",
    "# function to send delay time to the serial port\n",
    "def send_string():\n",
    "    string = string_entry.get()\n",
    "    ser.write(string.encode())\n",
    "\n",
    "# create GUI window\n",
    "root = tk.Tk()\n",
    "root.title(\"Communicating Via Serial\")\n",
    "\n",
    "# create label and entry widget\n",
    "string_label = tk.Label(root, text=\"Type Command (white, blue, red, all, off):\")\n",
    "string_label.pack()\n",
    "string_entry = tk.Entry(root)\n",
    "string_entry.pack()\n",
    "\n",
    "# create button to send string to serial port\n",
    "send_button = tk.Button(root, text=\"Set Command\", command=send_string)\n",
    "send_button.pack()\n",
    "\n",
    "# start GUI event loop\n",
    "root.mainloop()"
   ]
  },
  {
   "cell_type": "code",
   "execution_count": null,
   "id": "fcbee420",
   "metadata": {},
   "outputs": [],
   "source": []
  },
  {
   "cell_type": "code",
   "execution_count": null,
   "id": "d0272e6f",
   "metadata": {},
   "outputs": [],
   "source": []
  }
 ],
 "metadata": {
  "kernelspec": {
   "display_name": "Python 3 (ipykernel)",
   "language": "python",
   "name": "python3"
  },
  "language_info": {
   "codemirror_mode": {
    "name": "ipython",
    "version": 3
   },
   "file_extension": ".py",
   "mimetype": "text/x-python",
   "name": "python",
   "nbconvert_exporter": "python",
   "pygments_lexer": "ipython3",
   "version": "3.9.12"
  }
 },
 "nbformat": 4,
 "nbformat_minor": 5
}
